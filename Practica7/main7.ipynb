{
 "cells": [
  {
   "cell_type": "code",
   "execution_count": 1,
   "metadata": {},
   "outputs": [
    {
     "data": {
      "image/png": "[encoded data removed]",
      "text/plain": [
       "<Figure size 640x480 with 1 Axes>"
      ]
     },
     "metadata": {},
     "output_type": "display_data"
    }
   ],
   "source": [
    "import numpy as np\n",
    "import matplotlib.pyplot as plt\n",
    "import matplotlib.colors as mcolors\n",
    "\n",
    "# Datos de 10 personas -> [edad, ahorrado]\n",
    "personas = np.array([[.3, .4], [.4, .3],\n",
    "                     [.3,.2], [.4,.1],\n",
    "                     [.5,.2], [.4, .8],\n",
    "                     [.6,.8], [.5, .6],\n",
    "                     [.7, .6], [.8, .5]])\n",
    "# [.3, .4] = 30 años, $40,000 ahorrados\n",
    "\n",
    "# 1 : aprobado, 0 : denegado\n",
    "clases = np.array([0,0,0,0,0,1,1,1,1,1])\n",
    "\n",
    "# Mapa de colores personalizado\n",
    "cmap = mcolors.ListedColormap(['brown', 'green'])\n",
    "\n",
    "# Hacemos un gráfico de dispersión\n",
    "plt.figure()\n",
    "\n",
    "# Grafica denegados con 'X'\n",
    "plt.scatter(personas[clases == 0, 0], personas[clases == 0, 1], c='brown', marker='X', label='Denegado')\n",
    "\n",
    "# Grafica aprobados con 'o'\n",
    "plt.scatter(personas[clases == 1, 0], personas[clases == 1, 1], c='green', marker='o', label='Aprobado')\n",
    "\n",
    "plt.title('¿Tarjeta Platino?')\n",
    "plt.xlabel('Edad')\n",
    "plt.ylabel('Ahorrado')\n",
    "plt.grid()\n",
    "\n",
    "# Añadir leyenda\n",
    "plt.legend()\n",
    "\n",
    "plt.show()\n"
   ]
  },
  {
   "cell_type": "code",
   "execution_count": 36,
   "metadata": {},
   "outputs": [
    {
     "name": "stdout",
     "output_type": "stream",
     "text": [
      "Persona 1 (edad: 0.1, ahorrado: 0.7): Denegada\n",
      "Persona 2 (edad: 0.6, ahorrado: 0.8): Denegada\n",
      "Pesos utilizados: [0.31749864 0.57340453]\n",
      "Umbral utilizado: 0.6574308233690211\n"
     ]
    }
   ],
   "source": [
    "import numpy as np\n",
    "\n",
    "# Definir la función de activación escalón\n",
    "def funcion_escalon(x):\n",
    "    return 1 if x >= 0 else 0\n",
    "\n",
    "# Crear un vector de pesos aleatorio con valores entre -1 y 1\n",
    "pesos = np.random.uniform(-1, 1, 2)\n",
    "\n",
    "# Definir un umbral aleatorio con valor entre -1 y 1\n",
    "umbral = np.random.uniform(-1, 1)\n",
    "\n",
    "# Definir las nuevas personas a probar\n",
    "nuevas_personas = np.array([[0.1, 0.7], [0.6, 0.8]])\n",
    "\n",
    "# Función para clasificar a las nuevas personas\n",
    "def clasificar_persona(persona, pesos, umbral):\n",
    "    suma_ponderada = np.dot(persona, pesos) - umbral # Producto punto entre la persona y los pesos\n",
    "    return funcion_escalon(suma_ponderada)\n",
    "\n",
    "# Clasificar a las nuevas personas\n",
    "clasificaciones = [clasificar_persona(persona, pesos, umbral) for persona in nuevas_personas]\n",
    "\n",
    "# Imprimir resultados\n",
    "for i, persona in enumerate(nuevas_personas):\n",
    "    resultado = \"Aprobada\" if clasificaciones[i] == 1 else \"Denegada\"\n",
    "    print(f\"Persona {i+1} (edad: {persona[0]}, ahorrado: {persona[1]}): {resultado}\")\n",
    "\n",
    "# Mostrar pesos y umbral utilizados\n",
    "print(f\"Pesos utilizados: {pesos}\")\n",
    "print(f\"Umbral utilizado: {umbral}\")\n"
   ]
  },
  {
   "cell_type": "code",
   "execution_count": 68,
   "metadata": {},
   "outputs": [
    {
     "name": "stdout",
     "output_type": "stream",
     "text": [
      "Persona 1 (edad: 0.5, ahorrado: 0.5): Aprobada\n",
      "Persona 2 (edad: 0.1, ahorrado: 0.7): Aprobada\n",
      "Persona 3 (edad: 0.6, ahorrado: 0.8): Aprobada\n",
      "Pesos finales: [-0.07780216  0.57572073]\n",
      "Umbral final: 0.22478817226520145\n"
     ]
    }
   ],
   "source": [
    "import numpy as np\n",
    "\n",
    "# Datos de entrenamiento -> [edad, ahorrado]\n",
    "personas = np.array([[.3, .4], [.4, .3],\n",
    "                     [.3, .2], [.4, .1],\n",
    "                     [.5, .2], [.4, .8],\n",
    "                     [.6, .8], [.5, .6],\n",
    "                     [.7, .6], [.8, .5]])\n",
    "\n",
    "# Etiquetas de las clases: 1 = aprobado, 0 = denegado\n",
    "clases = np.array([0, 0, 0, 0, 0, 1, 1, 1, 1, 1])\n",
    "\n",
    "# Función de activación escalón\n",
    "def funcion_escalon(x):\n",
    "    return 1 if x >= 0 else 0\n",
    "\n",
    "# Perceptrón\n",
    "class Perceptron:\n",
    "    def __init__(self, num_entradas, tasa_aprendizaje=0.1, num_iteraciones=1000):\n",
    "        self.tasa_aprendizaje = tasa_aprendizaje\n",
    "        self.num_iteraciones = num_iteraciones\n",
    "        self.pesos = np.random.uniform(-1, 1, num_entradas)\n",
    "        self.umbral = np.random.uniform(-1, 1)\n",
    "\n",
    "    def entrenar(self, datos, etiquetas):\n",
    "        for _ in range(self.num_iteraciones):\n",
    "            for x, etiqueta in zip(datos, etiquetas):\n",
    "                prediccion = funcion_escalon(np.dot(x, self.pesos) - self.umbral)\n",
    "                error = etiqueta - prediccion\n",
    "                self.pesos += self.tasa_aprendizaje * error * x\n",
    "                self.umbral -= self.tasa_aprendizaje * error\n",
    "\n",
    "    def predecir(self, x):\n",
    "        suma_ponderada = np.dot(x, self.pesos) - self.umbral\n",
    "        return funcion_escalon(suma_ponderada)\n",
    "\n",
    "# Crear y entrenar el perceptrón\n",
    "perceptron = Perceptron(num_entradas=2)\n",
    "perceptron.entrenar(personas, clases)\n",
    "\n",
    "# Definir las nuevas personas a probar\n",
    "nuevas_personas = np.array([[0.5, 0.5], [0.1, 0.7], [0.6, 0.8]])\n",
    "\n",
    "# Clasificar a las nuevas personas\n",
    "clasificaciones = [perceptron.predecir(persona) for persona in nuevas_personas]\n",
    "\n",
    "# Imprimir resultados\n",
    "for i, persona in enumerate(nuevas_personas):\n",
    "    resultado = \"Aprobada\" if clasificaciones[i] == 1 else \"Denegada\"\n",
    "    print(f\"Persona {i+1} (edad: {persona[0]}, ahorrado: {persona[1]}): {resultado}\")\n",
    "\n",
    "# Mostrar pesos y umbral utilizados\n",
    "print(f\"Pesos finales: {perceptron.pesos}\")\n",
    "print(f\"Umbral final: {perceptron.umbral}\")\n"
   ]
  },
  {
   "cell_type": "code",
   "execution_count": 1,
   "metadata": {},
   "outputs": [
    {
     "name": "stdout",
     "output_type": "stream",
     "text": [
      "Persona 1 (edad: 0.5, ahorrado: 0.5): Aprobada\n",
      "Persona 2 (edad: 0.1, ahorrado: 0.7): Denegada\n",
      "Persona 3 (edad: 0.6, ahorrado: 0.8): Aprobada\n",
      "Pesos finales: [[1.1 1. ]]\n",
      "Umbral final: [-1.]\n"
     ]
    }
   ],
   "source": [
    "import numpy as np\n",
    "from sklearn.linear_model import Perceptron\n",
    "\n",
    "# Datos de entrenamiento -> [edad, ahorrado]\n",
    "personas = np.array([[.3, .4], [.4, .3],\n",
    "                     [.3, .2], [.4, .1],\n",
    "                     [.5, .2], [.4, .8],\n",
    "                     [.6, .8], [.5, .6],\n",
    "                     [.7, .6], [.8, .5]])\n",
    "# [.3, .4] = 30 años, $40,000 ahorrados\n",
    "\n",
    "# Etiquetas de las clases: 1 = aprobado, 0 = denegado\n",
    "clases = np.array([0, 0, 0, 0, 0, 1, 1, 1, 1, 1])\n",
    "\n",
    "# Crear y entrenar el perceptrón\n",
    "perceptron = Perceptron(max_iter=1000, tol=1e-3, random_state=0)\n",
    "perceptron.fit(personas, clases)\n",
    "\n",
    "# Definir las nuevas personas a probar\n",
    "nuevas_personas = np.array([[0.5, 0.5], [0.1, 0.7], [0.6, 0.8]])\n",
    "\n",
    "# Clasificar a las nuevas personas\n",
    "clasificaciones = perceptron.predict(nuevas_personas)\n",
    "\n",
    "# Imprimir resultados\n",
    "for i, persona in enumerate(nuevas_personas):\n",
    "    resultado = \"Aprobada\" if clasificaciones[i] == 1 else \"Denegada\"\n",
    "    print(f\"Persona {i+1} (edad: {persona[0]}, ahorrado: {persona[1]}): {resultado}\")\n",
    "\n",
    "# Mostrar pesos y umbral utilizados\n",
    "print(f\"Pesos finales: {perceptron.coef_}\")\n",
    "print(f\"Umbral final: {perceptron.intercept_}\")\n"
   ]
  }
 ],
 "metadata": {
  "kernelspec": {
   "display_name": "Python 3",
   "language": "python",
   "name": "python3"
  },
  "language_info": {
   "codemirror_mode": {
    "name": "ipython",
    "version": 3
   },
   "file_extension": ".py",
   "mimetype": "text/x-python",
   "name": "python",
   "nbconvert_exporter": "python",
   "pygments_lexer": "ipython3",
   "version": "3.11.2"
  }
 },
 "nbformat": 4,
 "nbformat_minor": 2
}
