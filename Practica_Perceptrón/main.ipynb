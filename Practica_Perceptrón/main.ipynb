{
 "cells": [
  {
   "cell_type": "code",
   "execution_count": 6,
   "metadata": {},
   "outputs": [
    {
     "data": {
      "image/png": "[encoded data removed]",
      "text/plain": [
       "<Figure size 640x480 with 1 Axes>"
      ]
     },
     "metadata": {},
     "output_type": "display_data"
    }
   ],
   "source": [
    "import numpy as np\n",
    "import matplotlib.pyplot as plt\n",
    "\n",
    "# Datos de 10 personas -> [edad, ahorro]\n",
    "personas = np.array([[.3, .4], [.4, .3],\n",
    "                     [.3, .2], [.4, .1],\n",
    "                     [.5, .2], [.4, .8],\n",
    "                     [.6, .8], [.5, .6],\n",
    "                     [.7, .6], [.8, .5]])\n",
    "\n",
    "# 1: aprobada, 0: denegada\n",
    "clases = np.array([0, 0, 0, 0, 0, 1, 1, 1, 1, 1])\n",
    "\n",
    "# Crear la gráfica de dispersión\n",
    "aprobada_added = False\n",
    "denegada_added = False\n",
    "\n",
    "for persona, clase in zip(personas, clases):\n",
    "    if clase == 1:\n",
    "        if not aprobada_added:\n",
    "            plt.scatter(persona[0], persona[1], color='green', marker='o', label='Aprobada')\n",
    "            aprobada_added = True\n",
    "        else:\n",
    "            plt.scatter(persona[0], persona[1], color='green', marker='o')\n",
    "    else:\n",
    "        if not denegada_added:\n",
    "            plt.scatter(persona[0], persona[1], color='brown', marker='x', label='Denegada')\n",
    "            denegada_added = True\n",
    "        else:\n",
    "            plt.scatter(persona[0], persona[1], color='brown', marker='x')\n",
    "\n",
    "plt.xlabel('Edad')\n",
    "plt.ylabel('Ahorro')\n",
    "plt.title('Gráfica de dispersión de Edad vs Ahorro')\n",
    "plt.legend()\n",
    "plt.show()\n"
   ]
  },
  {
   "cell_type": "code",
   "execution_count": 4,
   "metadata": {},
   "outputs": [
    {
     "name": "stdout",
     "output_type": "stream",
     "text": [
      "Persona [0.1 0.7] -> Clase asignada: Aprobada\n",
      "Persona [0.6 0.8] -> Clase asignada: Denegada\n",
      "Pesos: [-0.44251704 -0.80618833]\n",
      "Umbral: 0.6916762038328437\n",
      "Resultados: [1, 0]\n"
     ]
    }
   ],
   "source": [
    "import numpy as np\n",
    "\n",
    "# Generar pesos y umbral de manera aleatoria\n",
    "pesos = np.random.uniform(-1, 1, 2)\n",
    "umbral = np.random.uniform(-1, 1)\n",
    "\n",
    "# Función de activación (escalón)\n",
    "def funcion_activacion(x):\n",
    "    # Calcular la suma ponderada\n",
    "    suma_ponderada = np.dot(pesos, x) + umbral\n",
    "    # Aplicar función de activación escalón\n",
    "    return 1 if suma_ponderada >= 0 else 0\n",
    "\n",
    "# Nuevas personas para probar [edad, ahorro]\n",
    "nuevas_personas = np.array([[0.1, 0.7], [0.6, 0.8]])\n",
    "\n",
    "# Realizar las pruebas\n",
    "resultados = []\n",
    "for persona in nuevas_personas:\n",
    "    clase = funcion_activacion(persona)\n",
    "    resultados.append(clase)\n",
    "    print(f\"Persona {persona} -> Clase asignada: {'Aprobada' if clase == 1 else 'Denegada'}\")\n",
    "\n",
    "# Resultados\n",
    "print(\"Pesos:\", pesos)\n",
    "print(\"Umbral:\", umbral)\n",
    "print(\"Resultados:\", resultados)\n"
   ]
  },
  {
   "cell_type": "code",
   "execution_count": 5,
   "metadata": {},
   "outputs": [
    {
     "name": "stdout",
     "output_type": "stream",
     "text": [
      "Persona [0.5 0.5] -> Clase asignada: Aprobada\n",
      "Persona [0.1 0.7] -> Clase asignada: Denegada\n",
      "Persona [0.6 0.8] -> Clase asignada: Aprobada\n",
      "Pesos: [0.26786236 0.14548603]\n",
      "Umbral: -0.1892486397606811\n",
      "Resultados: [1, 0, 1]\n"
     ]
    }
   ],
   "source": [
    "import numpy as np\n",
    "\n",
    "# Datos de entrenamiento -> [edad, ahorro]\n",
    "entrenamiento = np.array([[0.3, 0.4], [0.4, 0.3], \n",
    "                          [0.3, 0.2], [0.4, 0.1], \n",
    "                          [0.5, 0.2], [0.4, 0.8], \n",
    "                          [0.6, 0.8], [0.5, 0.6], \n",
    "                          [0.7, 0.6], [0.8, 0.5]])\n",
    "\n",
    "# Clases de entrenamiento\n",
    "clases = np.array([0, 0, 0, 0, 0, 1, 1, 1, 1, 1])\n",
    "\n",
    "# Inicializar pesos y umbral\n",
    "pesos = np.random.uniform(-1, 1, 2)\n",
    "umbral = np.random.uniform(-1, 1)\n",
    "tasa_aprendizaje = 0.1\n",
    "epocas = 1000\n",
    "\n",
    "# Función de activación (escalón)\n",
    "def funcion_activacion(x):\n",
    "    suma_ponderada = np.dot(pesos, x) + umbral\n",
    "    return 1 if suma_ponderada >= 0 else 0\n",
    "\n",
    "# Entrenamiento del perceptrón\n",
    "for _ in range(epocas):\n",
    "    for i in range(len(entrenamiento)):\n",
    "        x = entrenamiento[i]\n",
    "        y = clases[i]\n",
    "        y_pred = funcion_activacion(x)\n",
    "        error = y - y_pred\n",
    "        pesos += tasa_aprendizaje * error * x\n",
    "        umbral += tasa_aprendizaje * error\n",
    "\n",
    "# Nuevas personas para probar [edad, ahorro]\n",
    "nuevas_personas = np.array([[0.5, 0.5], [0.1, 0.7], [0.6, 0.8]])\n",
    "\n",
    "# Realizar las pruebas\n",
    "resultados = []\n",
    "for persona in nuevas_personas:\n",
    "    clase = funcion_activacion(persona)\n",
    "    resultados.append(clase)\n",
    "    print(f\"Persona {persona} -> Clase asignada: {'Aprobada' if clase == 1 else 'Denegada'}\")\n",
    "\n",
    "# Resultados\n",
    "print(\"Pesos:\", pesos)\n",
    "print(\"Umbral:\", umbral)\n",
    "print(\"Resultados:\", resultados)\n"
   ]
  }
 ],
 "metadata": {
  "kernelspec": {
   "display_name": "Python 3",
   "language": "python",
   "name": "python3"
  },
  "language_info": {
   "codemirror_mode": {
    "name": "ipython",
    "version": 3
   },
   "file_extension": ".py",
   "mimetype": "text/x-python",
   "name": "python",
   "nbconvert_exporter": "python",
   "pygments_lexer": "ipython3",
   "version": "3.11.2"
  }
 },
 "nbformat": 4,
 "nbformat_minor": 2
}
